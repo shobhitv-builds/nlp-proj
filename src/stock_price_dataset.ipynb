{
  "nbformat": 4,
  "nbformat_minor": 0,
  "metadata": {
    "colab": {
      "name": "stock_price_dataset.ipynb",
      "provenance": []
    },
    "kernelspec": {
      "name": "python3",
      "display_name": "Python 3"
    },
    "language_info": {
      "name": "python"
    }
  },
  "cells": [
    {
      "cell_type": "code",
      "execution_count": 92,
      "metadata": {
        "id": "biCMiZqS690M"
      },
      "outputs": [],
      "source": [
        "# !pip install yfinance"
      ]
    },
    {
      "cell_type": "code",
      "source": [
        "import yfinance as yf\n",
        "\n",
        "\n",
        "def getStockPriceDataframe(tickerSymbol, startDate, endDate):\n",
        "  # fetch data\n",
        "  data = yf.Ticker(tickerSymbol).history(start=startDate, end=endDate)\n",
        "\n",
        "  # drop unnecessary cols\n",
        "  data = data.drop('Dividends', axis=1)\n",
        "  data = data.drop('Stock Splits', axis=1)\n",
        "\n",
        "  # reindex\n",
        "  data['Timestamp'] = data.index.array\n",
        "  data.index = range(0, len(data))\n",
        "\n",
        "  # calc derrived attributes\n",
        "  data['Delta'] = data['Close'] - data['Open']\n",
        "  data['Volatility'] = 0.0\n",
        "  data['AvgVolatility'] = 0.0\n",
        "  data['Momentum'] = 0.0\n",
        "\n",
        "  for idx in range(1, len(data)):\n",
        "    data.at[idx, 'Volatility'] = (data.at[idx - 1, 'Close'] - data.at[idx, 'Close']) / data.at[idx - 1, 'Close']\n",
        "    data.at[idx, 'Momentum'] = 1.0 if (data.at[idx, 'Close'] > data.at[idx - 1, 'Close']) else 0.0\n",
        "    if idx > 5:\n",
        "      data.at[idx, 'AvgVolatility'] = data.iloc[idx-5:idx]['Volatility'].mean()\n",
        "  return data\n",
        "\n",
        "\n",
        "df = getStockPriceDataframe(tickerSymbol='ADBE', startDate='2020-03-01', endDate='2020-06-30')\n",
        "df.to_csv('stock_prices.csv')"
      ],
      "metadata": {
        "id": "WLIoOXblQRku"
      },
      "execution_count": 91,
      "outputs": []
    },
    {
      "cell_type": "code",
      "source": [
        ""
      ],
      "metadata": {
        "id": "gCxR9F8RQ5eJ"
      },
      "execution_count": null,
      "outputs": []
    }
  ]
}