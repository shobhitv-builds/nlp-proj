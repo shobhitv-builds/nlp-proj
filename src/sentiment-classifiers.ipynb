{
  "cells": [
    {
      "cell_type": "code",
      "execution_count": 2,
      "metadata": {
        "id": "twjEY1IAISK1"
      },
      "outputs": [],
      "source": [
        "# https://www.cs.toronto.edu/~lczhang/321/lec/rnn_notes.html\n",
        "\n",
        "import csv\n",
        "import torch\n",
        "import torch.nn as nn\n",
        "import torch.nn.functional as F\n",
        "import torch.optim as optim\n",
        "import torchtext\n",
        "import numpy as np\n",
        "import matplotlib.pyplot as plt\n",
        "import torchtext"
      ]
    },
    {
      "cell_type": "code",
      "execution_count": 3,
      "metadata": {
        "colab": {
          "base_uri": "https://localhost:8080/"
        },
        "id": "NIRER5XGISK5",
        "outputId": "696a556c-5ad8-4f49-f9b3-2d8a9ddc9bc7"
      },
      "outputs": [
        {
          "output_type": "execute_result",
          "data": {
            "text/plain": [
              "device(type='cuda')"
            ]
          },
          "metadata": {},
          "execution_count": 3
        }
      ],
      "source": [
        "device = torch.device('cuda' if torch.cuda.is_available() else 'cpu')\n",
        "device"
      ]
    },
    {
      "cell_type": "code",
      "execution_count": 4,
      "metadata": {
        "id": "62_lX_fIISK6"
      },
      "outputs": [],
      "source": [
        "def get_data():\n",
        "    # This is a very large file, so we will not load it into RAM\n",
        "    return csv.reader(open(\"training.1600000.processed.noemoticon.csv\", \"rt\", encoding=\"latin-1\"))\n",
        "\n",
        "def split_tweet(tweet):\n",
        "    # separate punctuations\n",
        "    tweet = tweet.replace(\".\", \" . \") \\\n",
        "                 .replace(\",\", \" , \") \\\n",
        "                 .replace(\";\", \" ; \") \\\n",
        "                 .replace(\"?\", \" ? \") \\\n",
        "                 .replace(\"@\", \" @ \")\n",
        "    return tweet.lower().split()"
      ]
    },
    {
      "cell_type": "code",
      "execution_count": 6,
      "metadata": {
        "id": "aYz1hBe3ISK7"
      },
      "outputs": [],
      "source": [
        "glove = torchtext.vocab.GloVe(name=\"6B\", dim=50)"
      ]
    },
    {
      "cell_type": "code",
      "execution_count": 7,
      "metadata": {
        "id": "Ik1QwTgBISK8"
      },
      "outputs": [],
      "source": [
        "def get_tweet_words(glove_vector):\n",
        "    train, valid, test = [], [], []\n",
        "    for i, line in enumerate(get_data()):\n",
        "        tweet = line[-1]\n",
        "        idxs = [glove_vector.stoi[w]        # lookup the index of word\n",
        "                for w in split_tweet(tweet)\n",
        "                if w in glove_vector.stoi] # keep words that has an embedding\n",
        "        if not idxs: # ignore tweets without any word with an embedding\n",
        "            continue\n",
        "        idxs = torch.tensor(idxs) # convert list to pytorch tensor\n",
        "        label = torch.tensor(int(line[0] == \"4\")).long()\n",
        "        if i % 5 < 3:\n",
        "            train.append((idxs, label))\n",
        "        elif i % 5 == 4:\n",
        "            valid.append((idxs, label))\n",
        "        else:\n",
        "            test.append((idxs, label))\n",
        "    return train, valid, test\n",
        "\n",
        "train, valid, test = get_tweet_words(glove)"
      ]
    },
    {
      "cell_type": "code",
      "execution_count": 8,
      "metadata": {
        "colab": {
          "base_uri": "https://localhost:8080/"
        },
        "id": "eTm6iIozISK8",
        "outputId": "377dda8d-ee8e-4d49-936f-9c8e28e6b50e"
      },
      "outputs": [
        {
          "output_type": "stream",
          "name": "stdout",
          "text": [
            "torch.Size([23])\n",
            "torch.Size([23, 50])\n"
          ]
        }
      ],
      "source": [
        "example_tweet = train[0][0]\n",
        "\n",
        "glove_emb = nn.Embedding.from_pretrained(glove.vectors)\n",
        "example_tweet_emb = glove_emb(example_tweet)\n",
        "\n",
        "print(example_tweet.shape)\n",
        "print(example_tweet_emb.shape)"
      ]
    },
    {
      "cell_type": "code",
      "execution_count": 9,
      "metadata": {
        "id": "ehVl_HGoISK9"
      },
      "outputs": [],
      "source": [
        "class RnnSentimentClf(nn.Module):\n",
        "    def __init__(self, input_size, hidden_size, num_classes):\n",
        "        super(RnnSentimentClf, self).__init__()\n",
        "        self.emb = nn.Embedding.from_pretrained(glove.vectors)\n",
        "        self.hidden_size = hidden_size\n",
        "        self.rnn = nn.RNN(input_size, hidden_size, batch_first=True)\n",
        "        self.fc = nn.Linear(hidden_size, num_classes)\n",
        "    \n",
        "    def forward(self, x):\n",
        "        # Look up the embedding\n",
        "        x = self.emb(x)\n",
        "        # Forward propagate the RNN\n",
        "        out, _ = self.rnn(x)\n",
        "        # Pass the output of the last time step to the classifier\n",
        "        out = self.fc(out[:, -1, :])\n",
        "        return out"
      ]
    },
    {
      "cell_type": "code",
      "execution_count": 19,
      "metadata": {
        "id": "SzcSfKD7ISK-"
      },
      "outputs": [],
      "source": [
        "class LstmSentimentClf(nn.Module):\n",
        "    def __init__(self, input_size, hidden_size, num_classes):\n",
        "        super(LstmSentimentClf, self).__init__()\n",
        "        self.emb = nn.Embedding.from_pretrained(glove.vectors)\n",
        "        self.hidden_size = hidden_size\n",
        "        self.rnn = nn.LSTM(input_size, hidden_size, batch_first=True)\n",
        "        self.fc = nn.Linear(hidden_size, num_classes)\n",
        "    \n",
        "    def forward(self, x):\n",
        "        # Look up the embedding\n",
        "        x = self.emb(x)\n",
        "        # Set an initial hidden state and cell state\n",
        "        h0 = torch.zeros(1, x.size(0), self.hidden_size).to(device)\n",
        "        c0 = torch.zeros(1, x.size(0), self.hidden_size).to(device)\n",
        "        # Forward propagate the LSTM\n",
        "        out, _ = self.rnn(x, (h0, c0))\n",
        "        # Pass the output of the last time step to the classifier\n",
        "        out = self.fc(out[:, -1, :])\n",
        "        return out"
      ]
    },
    {
      "cell_type": "code",
      "execution_count": 11,
      "metadata": {
        "id": "QTEd8b0QISK_"
      },
      "outputs": [],
      "source": [
        "class GruSentimentClf(nn.Module):\n",
        "    def __init__(self, input_size, hidden_size, num_classes):\n",
        "        super(GruSentimentClf, self).__init__()\n",
        "        self.emb = nn.Embedding.from_pretrained(glove.vectors)\n",
        "        self.hidden_size = hidden_size\n",
        "        self.rnn = nn.GRU(input_size, hidden_size, batch_first=True)\n",
        "        self.fc = nn.Linear(hidden_size, num_classes)\n",
        "    \n",
        "    def forward(self, x):\n",
        "        # Look up the embedding\n",
        "        x = self.emb(x)\n",
        "        # Forward propagate the GRU \n",
        "        out, _ = self.rnn(x)\n",
        "        # Pass the output of the last time step to the classifier\n",
        "        out = self.fc(out[:, -1, :])\n",
        "        return out"
      ]
    },
    {
      "cell_type": "code",
      "execution_count": 12,
      "metadata": {
        "id": "RgiI91a6ISK_"
      },
      "outputs": [],
      "source": [
        "import random\n",
        "random.seed(1)\n",
        "\n",
        "class TweetBatcher:\n",
        "    def __init__(self, tweets, batch_size=32, drop_last=False):\n",
        "        # store tweets by length\n",
        "        self.tweets_by_length = {}\n",
        "        for words, label in tweets:\n",
        "            # compute the length of the tweet\n",
        "            wlen = words.shape[0]\n",
        "            # put the tweet in the correct key inside self.tweet_by_length\n",
        "            if wlen not in self.tweets_by_length:\n",
        "                self.tweets_by_length[wlen] = []\n",
        "            self.tweets_by_length[wlen].append((words, label),)\n",
        "         \n",
        "        #  create a DataLoader for each set of tweets of the same length\n",
        "        self.loaders = {wlen : torch.utils.data.DataLoader(\n",
        "                                    tweets,\n",
        "                                    batch_size=batch_size,\n",
        "                                    shuffle=True,\n",
        "                                    drop_last=drop_last) # omit last batch if smaller than batch_size\n",
        "            for wlen, tweets in self.tweets_by_length.items()}\n",
        "        \n",
        "    def __iter__(self): # called by Python to create an iterator\n",
        "        # make an iterator for every tweet length\n",
        "        iters = [iter(loader) for loader in self.loaders.values()]\n",
        "        while iters:\n",
        "            # pick an iterator (a length)\n",
        "            im = random.choice(iters)\n",
        "            try:\n",
        "                yield next(im)\n",
        "            except StopIteration:\n",
        "                # no more elements in the iterator, remove it\n",
        "                iters.remove(im)\n"
      ]
    },
    {
      "cell_type": "code",
      "execution_count": 13,
      "metadata": {
        "colab": {
          "base_uri": "https://localhost:8080/"
        },
        "id": "CUSb3tXqISLA",
        "outputId": "66b4035e-5756-465c-811c-eb209a12210b"
      },
      "outputs": [
        {
          "output_type": "stream",
          "name": "stdout",
          "text": [
            "torch.Size([32, 25]) torch.Size([32])\n",
            "torch.Size([5, 51]) torch.Size([5])\n",
            "torch.Size([32, 20]) torch.Size([32])\n",
            "torch.Size([32, 1]) torch.Size([32])\n",
            "torch.Size([32, 19]) torch.Size([32])\n",
            "torch.Size([6, 80]) torch.Size([6])\n"
          ]
        }
      ],
      "source": [
        "for i, (tweets, labels) in enumerate(TweetBatcher(train, drop_last=False)):\n",
        "    if i > 5: break\n",
        "    print(tweets.shape, labels.shape)"
      ]
    },
    {
      "cell_type": "code",
      "execution_count": 14,
      "metadata": {
        "id": "lEiwHH4VISLB"
      },
      "outputs": [],
      "source": [
        "def get_accuracy(model, data_loader):\n",
        "    correct, total = 0, 0\n",
        "    for tweets, labels in data_loader:\n",
        "        tweets = tweets.to(device)\n",
        "        labels = labels.to(device)\n",
        "        output = model(tweets)\n",
        "        pred = output.max(1, keepdim=True)[1]\n",
        "        correct += pred.eq(labels.view_as(pred)).sum().item()\n",
        "        total += labels.shape[0]\n",
        "    return correct / total"
      ]
    },
    {
      "cell_type": "code",
      "execution_count": 15,
      "metadata": {
        "id": "vwdI-cCZISLB"
      },
      "outputs": [],
      "source": [
        "train_loader = TweetBatcher(train, batch_size=64, drop_last=True)\n",
        "valid_loader = TweetBatcher(valid, batch_size=64, drop_last=False)\n",
        "test_loader = TweetBatcher(test, batch_size=64, drop_last=False)"
      ]
    },
    {
      "cell_type": "code",
      "execution_count": 16,
      "metadata": {
        "id": "aykHsIRIISLB"
      },
      "outputs": [],
      "source": [
        "def train_rnn_network(model, train, valid, num_epochs=5, learning_rate=1e-5):\n",
        "    criterion = nn.CrossEntropyLoss()\n",
        "    optimizer = torch.optim.Adam(model.parameters(), lr=learning_rate)\n",
        "    losses, train_acc, valid_acc = [], [], []\n",
        "    epochs = []\n",
        "    for epoch in range(num_epochs):\n",
        "        print(\"Epoch #{}\".format(epoch))\n",
        "        for tweets, labels in train:\n",
        "            \n",
        "            tweets = tweets.to(device)\n",
        "            labels = labels.to(device)\n",
        "\n",
        "            optimizer.zero_grad()\n",
        "            pred = model(tweets)\n",
        "            loss = criterion(pred, labels)\n",
        "            loss.backward()\n",
        "            optimizer.step()\n",
        "        losses.append(float(loss))\n",
        "\n",
        "        epochs.append(epoch)\n",
        "        train_acc.append(get_accuracy(model, train_loader))\n",
        "        valid_acc.append(get_accuracy(model, valid_loader))\n",
        "        print(\"Epoch %d; Loss %f; Train Acc %f; Val Acc %f\" % (\n",
        "              epoch+1, loss, train_acc[-1], valid_acc[-1]))\n",
        "    # plotting\n",
        "    plt.title(\"Training Curve\")\n",
        "    plt.plot(losses, label=\"Train\")\n",
        "    plt.xlabel(\"Epoch\")\n",
        "    plt.ylabel(\"Loss\")\n",
        "    plt.show()\n",
        "\n",
        "    plt.title(\"Training Curve\")\n",
        "    plt.plot(epochs, train_acc, label=\"Train\")\n",
        "    plt.plot(epochs, valid_acc, label=\"Validation\")\n",
        "    plt.xlabel(\"Epoch\")\n",
        "    plt.ylabel(\"Accuracy\")\n",
        "    plt.legend(loc='best')\n",
        "    plt.show()"
      ]
    },
    {
      "cell_type": "code",
      "execution_count": 15,
      "metadata": {
        "colab": {
          "base_uri": "https://localhost:8080/",
          "height": 1000
        },
        "id": "uGF8XUXgISLC",
        "outputId": "450bf96c-a11d-45d1-d977-36b388c81caf"
      },
      "outputs": [
        {
          "output_type": "stream",
          "name": "stdout",
          "text": [
            "Epoch #0\n",
            "Epoch 1; Loss 0.627225; Train Acc 0.693835; Val Acc 0.693987\n",
            "Epoch #1\n",
            "Epoch 2; Loss 0.492327; Train Acc 0.736645; Val Acc 0.736318\n",
            "Epoch #2\n",
            "Epoch 3; Loss 0.517686; Train Acc 0.740203; Val Acc 0.740569\n",
            "Epoch #3\n",
            "Epoch 4; Loss 0.431255; Train Acc 0.753152; Val Acc 0.752236\n",
            "Epoch #4\n",
            "Epoch 5; Loss 0.424948; Train Acc 0.756357; Val Acc 0.754727\n",
            "Epoch #5\n",
            "Epoch 6; Loss 0.484190; Train Acc 0.755243; Val Acc 0.754013\n",
            "Epoch #6\n",
            "Epoch 7; Loss 0.433449; Train Acc 0.760265; Val Acc 0.758515\n",
            "Epoch #7\n",
            "Epoch 8; Loss 0.500935; Train Acc 0.760028; Val Acc 0.758368\n",
            "Epoch #8\n",
            "Epoch 9; Loss 0.427938; Train Acc 0.758354; Val Acc 0.756992\n",
            "Epoch #9\n",
            "Epoch 10; Loss 0.461344; Train Acc 0.767502; Val Acc 0.765905\n",
            "Epoch #10\n",
            "Epoch 11; Loss 0.427584; Train Acc 0.766831; Val Acc 0.764526\n",
            "Epoch #11\n",
            "Epoch 12; Loss 0.534844; Train Acc 0.765495; Val Acc 0.764047\n",
            "Epoch #12\n",
            "Epoch 13; Loss 0.430612; Train Acc 0.769819; Val Acc 0.767404\n",
            "Epoch #13\n",
            "Epoch 14; Loss 0.436985; Train Acc 0.773598; Val Acc 0.771005\n",
            "Epoch #14\n",
            "Epoch 15; Loss 0.520682; Train Acc 0.773016; Val Acc 0.770655\n",
            "Epoch #15\n",
            "Epoch 16; Loss 0.410874; Train Acc 0.770858; Val Acc 0.768127\n",
            "Epoch #16\n",
            "Epoch 17; Loss 0.458583; Train Acc 0.775435; Val Acc 0.772560\n",
            "Epoch #17\n",
            "Epoch 18; Loss 0.479292; Train Acc 0.776685; Val Acc 0.773298\n",
            "Epoch #18\n",
            "Epoch 19; Loss 0.362201; Train Acc 0.771474; Val Acc 0.768737\n",
            "Epoch #19\n",
            "Epoch 20; Loss 0.435409; Train Acc 0.765648; Val Acc 0.763274\n"
          ]
        },
        {
          "output_type": "display_data",
          "data": {
            "text/plain": [
              "<Figure size 432x288 with 1 Axes>"
            ],
            "image/png": "[encoded data removed]"
          },
          "metadata": {
            "needs_background": "light"
          }
        },
        {
          "output_type": "display_data",
          "data": {
            "text/plain": [
              "<Figure size 432x288 with 1 Axes>"
            ],
            "image/png": "[encoded data removed]"
          },
          "metadata": {
            "needs_background": "light"
          }
        },
        {
          "output_type": "execute_result",
          "data": {
            "text/plain": [
              "0.7637334618116062"
            ]
          },
          "metadata": {},
          "execution_count": 15
        }
      ],
      "source": [
        "model = RnnSentimentClf(input_size=50, hidden_size=50, num_classes=2).to(device)\n",
        "train_rnn_network(model, train_loader, valid_loader, num_epochs=20, learning_rate=2e-4)\n",
        "get_accuracy(model, test_loader)"
      ]
    },
    {
      "cell_type": "code",
      "execution_count": 16,
      "metadata": {
        "colab": {
          "base_uri": "https://localhost:8080/",
          "height": 1000
        },
        "id": "RN7ZU0pzISLC",
        "outputId": "e0657492-0e47-4a2a-b4d0-7d4069ec5834"
      },
      "outputs": [
        {
          "output_type": "stream",
          "name": "stdout",
          "text": [
            "Epoch #0\n",
            "Epoch 1; Loss 0.454743; Train Acc 0.748779; Val Acc 0.748513\n",
            "Epoch #1\n",
            "Epoch 2; Loss 0.410354; Train Acc 0.761630; Val Acc 0.760533\n",
            "Epoch #2\n",
            "Epoch 3; Loss 0.532462; Train Acc 0.771138; Val Acc 0.769741\n",
            "Epoch #3\n",
            "Epoch 4; Loss 0.410168; Train Acc 0.773782; Val Acc 0.771412\n",
            "Epoch #4\n",
            "Epoch 5; Loss 0.426891; Train Acc 0.779504; Val Acc 0.776899\n",
            "Epoch #5\n",
            "Epoch 6; Loss 0.357840; Train Acc 0.779281; Val Acc 0.776230\n",
            "Epoch #6\n",
            "Epoch 7; Loss 0.443313; Train Acc 0.786297; Val Acc 0.783516\n",
            "Epoch #7\n",
            "Epoch 8; Loss 0.425472; Train Acc 0.788904; Val Acc 0.784887\n",
            "Epoch #8\n",
            "Epoch 9; Loss 0.307940; Train Acc 0.790470; Val Acc 0.786986\n",
            "Epoch #9\n",
            "Epoch 10; Loss 0.470025; Train Acc 0.791054; Val Acc 0.787080\n",
            "Epoch #10\n",
            "Epoch 11; Loss 0.362282; Train Acc 0.793304; Val Acc 0.789242\n",
            "Epoch #11\n",
            "Epoch 12; Loss 0.379990; Train Acc 0.793936; Val Acc 0.789980\n",
            "Epoch #12\n",
            "Epoch 13; Loss 0.388840; Train Acc 0.791422; Val Acc 0.787315\n",
            "Epoch #13\n",
            "Epoch 14; Loss 0.364175; Train Acc 0.794559; Val Acc 0.789943\n",
            "Epoch #14\n",
            "Epoch 15; Loss 0.494838; Train Acc 0.794498; Val Acc 0.789107\n",
            "Epoch #15\n",
            "Epoch 16; Loss 0.432504; Train Acc 0.796175; Val Acc 0.791438\n",
            "Epoch #16\n",
            "Epoch 17; Loss 0.363963; Train Acc 0.798462; Val Acc 0.793009\n",
            "Epoch #17\n",
            "Epoch 18; Loss 0.417247; Train Acc 0.799405; Val Acc 0.793778\n",
            "Epoch #18\n",
            "Epoch 19; Loss 0.378363; Train Acc 0.797598; Val Acc 0.792467\n",
            "Epoch #19\n",
            "Epoch 20; Loss 0.366979; Train Acc 0.797465; Val Acc 0.791870\n"
          ]
        },
        {
          "output_type": "display_data",
          "data": {
            "text/plain": [
              "<Figure size 432x288 with 1 Axes>"
            ],
            "image/png": "[encoded data removed]"
          },
          "metadata": {
            "needs_background": "light"
          }
        },
        {
          "output_type": "display_data",
          "data": {
            "text/plain": [
              "<Figure size 432x288 with 1 Axes>"
            ],
            "image/png": "[encoded data removed]"
          },
          "metadata": {
            "needs_background": "light"
          }
        },
        {
          "output_type": "execute_result",
          "data": {
            "text/plain": [
              "0.7927130293862764"
            ]
          },
          "metadata": {},
          "execution_count": 16
        }
      ],
      "source": [
        "model = GruSentimentClf(input_size=50, hidden_size=50, num_classes=2).to(device)\n",
        "train_rnn_network(model, train_loader, valid_loader, num_epochs=20, learning_rate=2e-4)\n",
        "get_accuracy(model, test_loader)"
      ]
    },
    {
      "cell_type": "code",
      "source": [
        "model = LstmSentimentClf(input_size=50, hidden_size=50, num_classes=2).to(device)\n",
        "train_rnn_network(model, train_loader, valid_loader, num_epochs=20, learning_rate=2e-4)\n",
        "get_accuracy(model, test_loader)"
      ],
      "metadata": {
        "colab": {
          "base_uri": "https://localhost:8080/"
        },
        "id": "AeAEym6KV1aA",
        "outputId": "99b15cd5-cc75-40f0-e83f-f29799734413"
      },
      "execution_count": null,
      "outputs": [
        {
          "output_type": "stream",
          "name": "stdout",
          "text": [
            "Epoch #0\n"
          ]
        }
      ]
    }
  ],
  "metadata": {
    "kernelspec": {
      "display_name": "Python 3.9.13 ('nlp')",
      "language": "python",
      "name": "python3"
    },
    "language_info": {
      "codemirror_mode": {
        "name": "ipython",
        "version": 3
      },
      "file_extension": ".py",
      "mimetype": "text/x-python",
      "name": "python",
      "nbconvert_exporter": "python",
      "pygments_lexer": "ipython3",
      "version": "3.9.13"
    },
    "orig_nbformat": 4,
    "vscode": {
      "interpreter": {
        "hash": "dcc50c5e652f62bdb2268390790346333dec974f0ec431694500ed85d6eddae1"
      }
    },
    "colab": {
      "name": "sentiment-classifiers.ipynb",
      "provenance": [],
      "collapsed_sections": []
    },
    "accelerator": "GPU",
    "gpuClass": "standard"
  },
  "nbformat": 4,
  "nbformat_minor": 0
}