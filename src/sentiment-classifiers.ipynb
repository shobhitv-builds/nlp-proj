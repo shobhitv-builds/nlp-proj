{
 "cells": [
  {
   "cell_type": "code",
   "execution_count": 14,
   "metadata": {},
   "outputs": [],
   "source": [
    "# https://www.cs.toronto.edu/~lczhang/321/lec/rnn_notes.html\n",
    "\n",
    "import csv\n",
    "import torch\n",
    "import torch.nn as nn\n",
    "import torch.nn.functional as F\n",
    "import torch.optim as optim\n",
    "import torchtext\n",
    "import numpy as np\n",
    "import matplotlib.pyplot as plt\n",
    "import torchtext"
   ]
  },
  {
   "cell_type": "code",
   "execution_count": 15,
   "metadata": {},
   "outputs": [
    {
     "data": {
      "text/plain": [
       "device(type='cpu')"
      ]
     },
     "execution_count": 15,
     "metadata": {},
     "output_type": "execute_result"
    }
   ],
   "source": [
    "device = torch.device('cuda' if torch.cuda.is_available() else 'cpu')\n",
    "device"
   ]
  },
  {
   "cell_type": "code",
   "execution_count": 16,
   "metadata": {},
   "outputs": [],
   "source": [
    "def get_data():\n",
    "    # This is a very large file, so we will not load it into RAM\n",
    "    return csv.reader(open(\"../data/training.1600000.processed.noemoticon.csv\", \"rt\", encoding=\"latin-1\"))\n",
    "\n",
    "def split_tweet(tweet):\n",
    "    # separate punctuations\n",
    "    tweet = tweet.replace(\".\", \" . \") \\\n",
    "                 .replace(\",\", \" , \") \\\n",
    "                 .replace(\";\", \" ; \") \\\n",
    "                 .replace(\"?\", \" ? \") \\\n",
    "                 .replace(\"@\", \" @ \")\n",
    "    return tweet.lower().split()"
   ]
  },
  {
   "cell_type": "code",
   "execution_count": 17,
   "metadata": {},
   "outputs": [],
   "source": [
    "glove = torchtext.vocab.GloVe(name=\"6B\", dim=50)"
   ]
  },
  {
   "cell_type": "code",
   "execution_count": 18,
   "metadata": {},
   "outputs": [],
   "source": [
    "def get_tweet_words(glove_vector):\n",
    "    train, valid, test = [], [], []\n",
    "    for i, line in enumerate(get_data()):\n",
    "        tweet = line[-1]\n",
    "        idxs = [glove_vector.stoi[w]        # lookup the index of word\n",
    "                for w in split_tweet(tweet)\n",
    "                if w in glove_vector.stoi] # keep words that has an embedding\n",
    "        if not idxs: # ignore tweets without any word with an embedding\n",
    "            continue\n",
    "        idxs = torch.tensor(idxs) # convert list to pytorch tensor\n",
    "        label = torch.tensor(int(line[0] == \"4\")).long()\n",
    "        if i % 5 < 3:\n",
    "            train.append((idxs, label))\n",
    "        elif i % 5 == 4:\n",
    "            valid.append((idxs, label))\n",
    "        else:\n",
    "            test.append((idxs, label))\n",
    "    return train, valid, test\n",
    "\n",
    "train, valid, test = get_tweet_words(glove)"
   ]
  },
  {
   "cell_type": "code",
   "execution_count": 19,
   "metadata": {},
   "outputs": [
    {
     "name": "stdout",
     "output_type": "stream",
     "text": [
      "torch.Size([24])\n",
      "torch.Size([24, 300])\n"
     ]
    }
   ],
   "source": [
    "example_tweet = train[0][0]\n",
    "\n",
    "glove_emb = nn.Embedding.from_pretrained(glove.vectors)\n",
    "example_tweet_emb = glove_emb(example_tweet)\n",
    "\n",
    "print(example_tweet.shape)\n",
    "print(example_tweet_emb.shape)"
   ]
  },
  {
   "cell_type": "code",
   "execution_count": 29,
   "metadata": {},
   "outputs": [],
   "source": [
    "class RnnSentimentClf(nn.Module):\n",
    "    def __init__(self, input_size, hidden_size, num_classes):\n",
    "        super(RnnSentimentClf, self).__init__()\n",
    "        self.emb = nn.Embedding.from_pretrained(glove.vectors)\n",
    "        self.hidden_size = hidden_size\n",
    "        self.rnn = nn.RNN(input_size, hidden_size, batch_first=True)\n",
    "        self.fc = nn.Linear(hidden_size, num_classes)\n",
    "    \n",
    "    def forward(self, x):\n",
    "        # Look up the embedding\n",
    "        x = self.emb(x)\n",
    "        # Forward propagate the RNN\n",
    "        out, _ = self.rnn(x)\n",
    "        # Pass the output of the last time step to the classifier\n",
    "        out = self.fc(out[:, -1, :])\n",
    "        return out"
   ]
  },
  {
   "cell_type": "code",
   "execution_count": 31,
   "metadata": {},
   "outputs": [],
   "source": [
    "class LstmSentimentClf(nn.Module):\n",
    "    def __init__(self, input_size, hidden_size, num_classes):\n",
    "        super(LstmSentimentClf, self).__init__()\n",
    "        self.emb = nn.Embedding.from_pretrained(glove.vectors)\n",
    "        self.hidden_size = hidden_size\n",
    "        self.rnn = nn.LSTM(input_size, hidden_size, batch_first=True)\n",
    "        self.fc = nn.Linear(hidden_size, num_classes)\n",
    "    \n",
    "    def forward(self, x):\n",
    "        # Look up the embedding\n",
    "        x = self.emb(x)\n",
    "        # Set an initial hidden state and cell state\n",
    "        h0 = torch.zeros(1, x.size(0), self.hidden_size)\n",
    "        c0 = torch.zeros(1, x.size(0), self.hidden_size)\n",
    "        # Forward propagate the LSTM\n",
    "        out, _ = self.rnn(x, (h0, c0))\n",
    "        # Pass the output of the last time step to the classifier\n",
    "        out = self.fc(out[:, -1, :])\n",
    "        return out"
   ]
  },
  {
   "cell_type": "code",
   "execution_count": null,
   "metadata": {},
   "outputs": [],
   "source": [
    "class GruSentimentClf(nn.Module):\n",
    "    def __init__(self, input_size, hidden_size, num_classes):\n",
    "        super(GruSentimentClf, self).__init__()\n",
    "        self.emb = nn.Embedding.from_pretrained(glove.vectors)\n",
    "        self.hidden_size = hidden_size\n",
    "        self.rnn = nn.GRU(input_size, hidden_size, batch_first=True)\n",
    "        self.fc = nn.Linear(hidden_size, num_classes)\n",
    "    \n",
    "    def forward(self, x):\n",
    "        # Look up the embedding\n",
    "        x = self.emb(x)\n",
    "        # Forward propagate the GRU \n",
    "        out, _ = self.rnn(x)\n",
    "        # Pass the output of the last time step to the classifier\n",
    "        out = self.fc(out[:, -1, :])\n",
    "        return out"
   ]
  },
  {
   "cell_type": "code",
   "execution_count": 21,
   "metadata": {},
   "outputs": [],
   "source": [
    "import random\n",
    "random.seed(1)\n",
    "\n",
    "class TweetBatcher:\n",
    "    def __init__(self, tweets, batch_size=32, drop_last=False):\n",
    "        # store tweets by length\n",
    "        self.tweets_by_length = {}\n",
    "        for words, label in tweets:\n",
    "            # compute the length of the tweet\n",
    "            wlen = words.shape[0]\n",
    "            # put the tweet in the correct key inside self.tweet_by_length\n",
    "            if wlen not in self.tweets_by_length:\n",
    "                self.tweets_by_length[wlen] = []\n",
    "            self.tweets_by_length[wlen].append((words, label),)\n",
    "         \n",
    "        #  create a DataLoader for each set of tweets of the same length\n",
    "        self.loaders = {wlen : torch.utils.data.DataLoader(\n",
    "                                    tweets,\n",
    "                                    batch_size=batch_size,\n",
    "                                    shuffle=True,\n",
    "                                    drop_last=drop_last) # omit last batch if smaller than batch_size\n",
    "            for wlen, tweets in self.tweets_by_length.items()}\n",
    "        \n",
    "    def __iter__(self): # called by Python to create an iterator\n",
    "        # make an iterator for every tweet length\n",
    "        iters = [iter(loader) for loader in self.loaders.values()]\n",
    "        while iters:\n",
    "            # pick an iterator (a length)\n",
    "            im = random.choice(iters)\n",
    "            try:\n",
    "                yield next(im)\n",
    "            except StopIteration:\n",
    "                # no more elements in the iterator, remove it\n",
    "                iters.remove(im)\n"
   ]
  },
  {
   "cell_type": "code",
   "execution_count": 22,
   "metadata": {},
   "outputs": [
    {
     "name": "stdout",
     "output_type": "stream",
     "text": [
      "torch.Size([32, 19]) torch.Size([32])\n",
      "torch.Size([2, 76]) torch.Size([2])\n",
      "torch.Size([1, 116]) torch.Size([1])\n",
      "torch.Size([32, 4]) torch.Size([32])\n",
      "torch.Size([32, 37]) torch.Size([32])\n",
      "torch.Size([32, 28]) torch.Size([32])\n"
     ]
    }
   ],
   "source": [
    "for i, (tweets, labels) in enumerate(TweetBatcher(train, drop_last=False)):\n",
    "    if i > 5: break\n",
    "    print(tweets.shape, labels.shape)"
   ]
  },
  {
   "cell_type": "code",
   "execution_count": 23,
   "metadata": {},
   "outputs": [],
   "source": [
    "def get_accuracy(model, data_loader):\n",
    "    correct, total = 0, 0\n",
    "    for tweets, labels in data_loader:\n",
    "        output = model(tweets)\n",
    "        pred = output.max(1, keepdim=True)[1]\n",
    "        correct += pred.eq(labels.view_as(pred)).sum().item()\n",
    "        total += labels.shape[0]\n",
    "    return correct / total"
   ]
  },
  {
   "cell_type": "code",
   "execution_count": 24,
   "metadata": {},
   "outputs": [],
   "source": [
    "train_loader = TweetBatcher(train, batch_size=64, drop_last=True)\n",
    "valid_loader = TweetBatcher(valid, batch_size=64, drop_last=False)\n",
    "test_loader = TweetBatcher(test, batch_size=64, drop_last=False)"
   ]
  },
  {
   "cell_type": "code",
   "execution_count": 27,
   "metadata": {},
   "outputs": [],
   "source": [
    "def train_rnn_network(model, train, valid, num_epochs=5, learning_rate=1e-5):\n",
    "    criterion = nn.CrossEntropyLoss()\n",
    "    optimizer = torch.optim.Adam(model.parameters(), lr=learning_rate)\n",
    "    losses, train_acc, valid_acc = [], [], []\n",
    "    epochs = []\n",
    "    for epoch in range(num_epochs):\n",
    "        print(\"Epoch #{}\".format(epoch))\n",
    "        for tweets, labels in train:\n",
    "            \n",
    "            tweets = tweets.to(device)\n",
    "            labels = labels.to(device)\n",
    "\n",
    "            optimizer.zero_grad()\n",
    "            pred = model(tweets)\n",
    "            loss = criterion(pred, labels)\n",
    "            loss.backward()\n",
    "            optimizer.step()\n",
    "        losses.append(float(loss))\n",
    "\n",
    "        epochs.append(epoch)\n",
    "        train_acc.append(get_accuracy(model, train_loader))\n",
    "        valid_acc.append(get_accuracy(model, valid_loader))\n",
    "        print(\"Epoch %d; Loss %f; Train Acc %f; Val Acc %f\" % (\n",
    "              epoch+1, loss, train_acc[-1], valid_acc[-1]))\n",
    "    # plotting\n",
    "    plt.title(\"Training Curve\")\n",
    "    plt.plot(losses, label=\"Train\")\n",
    "    plt.xlabel(\"Epoch\")\n",
    "    plt.ylabel(\"Loss\")\n",
    "    plt.show()\n",
    "\n",
    "    plt.title(\"Training Curve\")\n",
    "    plt.plot(epochs, train_acc, label=\"Train\")\n",
    "    plt.plot(epochs, valid_acc, label=\"Validation\")\n",
    "    plt.xlabel(\"Epoch\")\n",
    "    plt.ylabel(\"Accuracy\")\n",
    "    plt.legend(loc='best')\n",
    "    plt.show()"
   ]
  },
  {
   "cell_type": "code",
   "execution_count": 28,
   "metadata": {},
   "outputs": [
    {
     "name": "stdout",
     "output_type": "stream",
     "text": [
      "Epoch #0\n",
      "Epoch 1; Loss 0.421262; Train Acc 0.779092; Val Acc 0.778191\n",
      "Epoch #1\n"
     ]
    },
    {
     "ename": "KeyboardInterrupt",
     "evalue": "",
     "output_type": "error",
     "traceback": [
      "\u001b[0;31m---------------------------------------------------------------------------\u001b[0m",
      "\u001b[0;31mKeyboardInterrupt\u001b[0m                         Traceback (most recent call last)",
      "\u001b[1;32m/Users/shobhitv/Documents/UChicago/Academic/MPCS53113/nlp-proj/src/logistic-regression.ipynb Cell 13\u001b[0m in \u001b[0;36m<cell line: 2>\u001b[0;34m()\u001b[0m\n\u001b[1;32m      <a href='vscode-notebook-cell:/Users/shobhitv/Documents/UChicago/Academic/MPCS53113/nlp-proj/src/logistic-regression.ipynb#X26sZmlsZQ%3D%3D?line=0'>1</a>\u001b[0m model \u001b[39m=\u001b[39m RnnSentimentClf(input_size\u001b[39m=\u001b[39m\u001b[39m300\u001b[39m, hidden_size\u001b[39m=\u001b[39m\u001b[39m300\u001b[39m, num_classes\u001b[39m=\u001b[39m\u001b[39m2\u001b[39m)\u001b[39m.\u001b[39mto(device)\n\u001b[0;32m----> <a href='vscode-notebook-cell:/Users/shobhitv/Documents/UChicago/Academic/MPCS53113/nlp-proj/src/logistic-regression.ipynb#X26sZmlsZQ%3D%3D?line=1'>2</a>\u001b[0m train_rnn_network(model, train_loader, valid_loader, num_epochs\u001b[39m=\u001b[39;49m\u001b[39m20\u001b[39;49m, learning_rate\u001b[39m=\u001b[39;49m\u001b[39m2e-4\u001b[39;49m)\n\u001b[1;32m      <a href='vscode-notebook-cell:/Users/shobhitv/Documents/UChicago/Academic/MPCS53113/nlp-proj/src/logistic-regression.ipynb#X26sZmlsZQ%3D%3D?line=2'>3</a>\u001b[0m get_accuracy(model, test_loader)\n",
      "\u001b[1;32m/Users/shobhitv/Documents/UChicago/Academic/MPCS53113/nlp-proj/src/logistic-regression.ipynb Cell 13\u001b[0m in \u001b[0;36mtrain_rnn_network\u001b[0;34m(model, train, valid, num_epochs, learning_rate)\u001b[0m\n\u001b[1;32m     <a href='vscode-notebook-cell:/Users/shobhitv/Documents/UChicago/Academic/MPCS53113/nlp-proj/src/logistic-regression.ipynb#X26sZmlsZQ%3D%3D?line=10'>11</a>\u001b[0m labels \u001b[39m=\u001b[39m labels\u001b[39m.\u001b[39mto(device)\n\u001b[1;32m     <a href='vscode-notebook-cell:/Users/shobhitv/Documents/UChicago/Academic/MPCS53113/nlp-proj/src/logistic-regression.ipynb#X26sZmlsZQ%3D%3D?line=12'>13</a>\u001b[0m optimizer\u001b[39m.\u001b[39mzero_grad()\n\u001b[0;32m---> <a href='vscode-notebook-cell:/Users/shobhitv/Documents/UChicago/Academic/MPCS53113/nlp-proj/src/logistic-regression.ipynb#X26sZmlsZQ%3D%3D?line=13'>14</a>\u001b[0m pred \u001b[39m=\u001b[39m model(tweets)\n\u001b[1;32m     <a href='vscode-notebook-cell:/Users/shobhitv/Documents/UChicago/Academic/MPCS53113/nlp-proj/src/logistic-regression.ipynb#X26sZmlsZQ%3D%3D?line=14'>15</a>\u001b[0m loss \u001b[39m=\u001b[39m criterion(pred, labels)\n\u001b[1;32m     <a href='vscode-notebook-cell:/Users/shobhitv/Documents/UChicago/Academic/MPCS53113/nlp-proj/src/logistic-regression.ipynb#X26sZmlsZQ%3D%3D?line=15'>16</a>\u001b[0m loss\u001b[39m.\u001b[39mbackward()\n",
      "File \u001b[0;32m~/opt/anaconda3/envs/nlp/lib/python3.9/site-packages/torch/nn/modules/module.py:1110\u001b[0m, in \u001b[0;36mModule._call_impl\u001b[0;34m(self, *input, **kwargs)\u001b[0m\n\u001b[1;32m   1106\u001b[0m \u001b[39m# If we don't have any hooks, we want to skip the rest of the logic in\u001b[39;00m\n\u001b[1;32m   1107\u001b[0m \u001b[39m# this function, and just call forward.\u001b[39;00m\n\u001b[1;32m   1108\u001b[0m \u001b[39mif\u001b[39;00m \u001b[39mnot\u001b[39;00m (\u001b[39mself\u001b[39m\u001b[39m.\u001b[39m_backward_hooks \u001b[39mor\u001b[39;00m \u001b[39mself\u001b[39m\u001b[39m.\u001b[39m_forward_hooks \u001b[39mor\u001b[39;00m \u001b[39mself\u001b[39m\u001b[39m.\u001b[39m_forward_pre_hooks \u001b[39mor\u001b[39;00m _global_backward_hooks\n\u001b[1;32m   1109\u001b[0m         \u001b[39mor\u001b[39;00m _global_forward_hooks \u001b[39mor\u001b[39;00m _global_forward_pre_hooks):\n\u001b[0;32m-> 1110\u001b[0m     \u001b[39mreturn\u001b[39;00m forward_call(\u001b[39m*\u001b[39;49m\u001b[39minput\u001b[39;49m, \u001b[39m*\u001b[39;49m\u001b[39m*\u001b[39;49mkwargs)\n\u001b[1;32m   1111\u001b[0m \u001b[39m# Do not call functions when jit is used\u001b[39;00m\n\u001b[1;32m   1112\u001b[0m full_backward_hooks, non_full_backward_hooks \u001b[39m=\u001b[39m [], []\n",
      "\u001b[1;32m/Users/shobhitv/Documents/UChicago/Academic/MPCS53113/nlp-proj/src/logistic-regression.ipynb Cell 13\u001b[0m in \u001b[0;36mRnnSentimentClf.forward\u001b[0;34m(self, x)\u001b[0m\n\u001b[1;32m     <a href='vscode-notebook-cell:/Users/shobhitv/Documents/UChicago/Academic/MPCS53113/nlp-proj/src/logistic-regression.ipynb#X26sZmlsZQ%3D%3D?line=10'>11</a>\u001b[0m x \u001b[39m=\u001b[39m \u001b[39mself\u001b[39m\u001b[39m.\u001b[39memb(x)\n\u001b[1;32m     <a href='vscode-notebook-cell:/Users/shobhitv/Documents/UChicago/Academic/MPCS53113/nlp-proj/src/logistic-regression.ipynb#X26sZmlsZQ%3D%3D?line=11'>12</a>\u001b[0m \u001b[39m# Forward propagate the RNN\u001b[39;00m\n\u001b[0;32m---> <a href='vscode-notebook-cell:/Users/shobhitv/Documents/UChicago/Academic/MPCS53113/nlp-proj/src/logistic-regression.ipynb#X26sZmlsZQ%3D%3D?line=12'>13</a>\u001b[0m out, _ \u001b[39m=\u001b[39m \u001b[39mself\u001b[39;49m\u001b[39m.\u001b[39;49mrnn(x)\n\u001b[1;32m     <a href='vscode-notebook-cell:/Users/shobhitv/Documents/UChicago/Academic/MPCS53113/nlp-proj/src/logistic-regression.ipynb#X26sZmlsZQ%3D%3D?line=13'>14</a>\u001b[0m \u001b[39m# Pass the output of the last time step to the classifier\u001b[39;00m\n\u001b[1;32m     <a href='vscode-notebook-cell:/Users/shobhitv/Documents/UChicago/Academic/MPCS53113/nlp-proj/src/logistic-regression.ipynb#X26sZmlsZQ%3D%3D?line=14'>15</a>\u001b[0m out \u001b[39m=\u001b[39m \u001b[39mself\u001b[39m\u001b[39m.\u001b[39mfc(out[:, \u001b[39m-\u001b[39m\u001b[39m1\u001b[39m, :])\n",
      "File \u001b[0;32m~/opt/anaconda3/envs/nlp/lib/python3.9/site-packages/torch/nn/modules/module.py:1110\u001b[0m, in \u001b[0;36mModule._call_impl\u001b[0;34m(self, *input, **kwargs)\u001b[0m\n\u001b[1;32m   1106\u001b[0m \u001b[39m# If we don't have any hooks, we want to skip the rest of the logic in\u001b[39;00m\n\u001b[1;32m   1107\u001b[0m \u001b[39m# this function, and just call forward.\u001b[39;00m\n\u001b[1;32m   1108\u001b[0m \u001b[39mif\u001b[39;00m \u001b[39mnot\u001b[39;00m (\u001b[39mself\u001b[39m\u001b[39m.\u001b[39m_backward_hooks \u001b[39mor\u001b[39;00m \u001b[39mself\u001b[39m\u001b[39m.\u001b[39m_forward_hooks \u001b[39mor\u001b[39;00m \u001b[39mself\u001b[39m\u001b[39m.\u001b[39m_forward_pre_hooks \u001b[39mor\u001b[39;00m _global_backward_hooks\n\u001b[1;32m   1109\u001b[0m         \u001b[39mor\u001b[39;00m _global_forward_hooks \u001b[39mor\u001b[39;00m _global_forward_pre_hooks):\n\u001b[0;32m-> 1110\u001b[0m     \u001b[39mreturn\u001b[39;00m forward_call(\u001b[39m*\u001b[39;49m\u001b[39minput\u001b[39;49m, \u001b[39m*\u001b[39;49m\u001b[39m*\u001b[39;49mkwargs)\n\u001b[1;32m   1111\u001b[0m \u001b[39m# Do not call functions when jit is used\u001b[39;00m\n\u001b[1;32m   1112\u001b[0m full_backward_hooks, non_full_backward_hooks \u001b[39m=\u001b[39m [], []\n",
      "File \u001b[0;32m~/opt/anaconda3/envs/nlp/lib/python3.9/site-packages/torch/nn/modules/rnn.py:471\u001b[0m, in \u001b[0;36mRNN.forward\u001b[0;34m(self, input, hx)\u001b[0m\n\u001b[1;32m    469\u001b[0m \u001b[39mif\u001b[39;00m batch_sizes \u001b[39mis\u001b[39;00m \u001b[39mNone\u001b[39;00m:\n\u001b[1;32m    470\u001b[0m     \u001b[39mif\u001b[39;00m \u001b[39mself\u001b[39m\u001b[39m.\u001b[39mmode \u001b[39m==\u001b[39m \u001b[39m'\u001b[39m\u001b[39mRNN_TANH\u001b[39m\u001b[39m'\u001b[39m:\n\u001b[0;32m--> 471\u001b[0m         result \u001b[39m=\u001b[39m _VF\u001b[39m.\u001b[39;49mrnn_tanh(\u001b[39minput\u001b[39;49m, hx, \u001b[39mself\u001b[39;49m\u001b[39m.\u001b[39;49m_flat_weights, \u001b[39mself\u001b[39;49m\u001b[39m.\u001b[39;49mbias, \u001b[39mself\u001b[39;49m\u001b[39m.\u001b[39;49mnum_layers,\n\u001b[1;32m    472\u001b[0m                               \u001b[39mself\u001b[39;49m\u001b[39m.\u001b[39;49mdropout, \u001b[39mself\u001b[39;49m\u001b[39m.\u001b[39;49mtraining, \u001b[39mself\u001b[39;49m\u001b[39m.\u001b[39;49mbidirectional,\n\u001b[1;32m    473\u001b[0m                               \u001b[39mself\u001b[39;49m\u001b[39m.\u001b[39;49mbatch_first)\n\u001b[1;32m    474\u001b[0m     \u001b[39melse\u001b[39;00m:\n\u001b[1;32m    475\u001b[0m         result \u001b[39m=\u001b[39m _VF\u001b[39m.\u001b[39mrnn_relu(\u001b[39minput\u001b[39m, hx, \u001b[39mself\u001b[39m\u001b[39m.\u001b[39m_flat_weights, \u001b[39mself\u001b[39m\u001b[39m.\u001b[39mbias, \u001b[39mself\u001b[39m\u001b[39m.\u001b[39mnum_layers,\n\u001b[1;32m    476\u001b[0m                               \u001b[39mself\u001b[39m\u001b[39m.\u001b[39mdropout, \u001b[39mself\u001b[39m\u001b[39m.\u001b[39mtraining, \u001b[39mself\u001b[39m\u001b[39m.\u001b[39mbidirectional,\n\u001b[1;32m    477\u001b[0m                               \u001b[39mself\u001b[39m\u001b[39m.\u001b[39mbatch_first)\n",
      "\u001b[0;31mKeyboardInterrupt\u001b[0m: "
     ]
    }
   ],
   "source": [
    "model = RnnSentimentClf(input_size=300, hidden_size=300, num_classes=2).to(device)\n",
    "# model = GruSentimentClf(input_size=300, hidden_size=300, num_classes=2).to(device)\n",
    "# model = LstmSentimentClf(input_size=300, hidden_size=300, num_classes=2).to(device)\n",
    "train_rnn_network(model, train_loader, valid_loader, num_epochs=20, learning_rate=2e-4)\n",
    "get_accuracy(model, test_loader)"
   ]
  },
  {
   "cell_type": "code",
   "execution_count": null,
   "metadata": {},
   "outputs": [],
   "source": []
  }
 ],
 "metadata": {
  "kernelspec": {
   "display_name": "Python 3.9.13 ('nlp')",
   "language": "python",
   "name": "python3"
  },
  "language_info": {
   "codemirror_mode": {
    "name": "ipython",
    "version": 3
   },
   "file_extension": ".py",
   "mimetype": "text/x-python",
   "name": "python",
   "nbconvert_exporter": "python",
   "pygments_lexer": "ipython3",
   "version": "3.9.13"
  },
  "orig_nbformat": 4,
  "vscode": {
   "interpreter": {
    "hash": "dcc50c5e652f62bdb2268390790346333dec974f0ec431694500ed85d6eddae1"
   }
  }
 },
 "nbformat": 4,
 "nbformat_minor": 2
}
